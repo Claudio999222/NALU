{
 "cells": [
  {
   "cell_type": "code",
   "execution_count": 6,
   "metadata": {},
   "outputs": [],
   "source": [
    "import tensorflow as tf\n",
    "from datetime import datetime\n",
    "import numpy as np\n",
    "from matplotlib import pyplot as plt"
   ]
  },
  {
   "cell_type": "markdown",
   "metadata": {},
   "source": [
    "#### Creo un dataset sintetico al quale le mia y corrisponde sempre a 1.3 * x1 * x1 + 3.3 * x2 + 2.5"
   ]
  },
  {
   "cell_type": "code",
   "execution_count": 7,
   "metadata": {
    "pycharm": {
     "name": "#%%\n"
    }
   },
   "outputs": [],
   "source": [
    "def my_function(x1, x2):\n",
    "    return 1.3 * x1 * x1 + 3.3 * x2 + 2.5\n",
    "\n",
    "examples_number = 20000\n",
    "train_test_split = 18000\n",
    "\n",
    "x = np.zeros((examples_number, 2), dtype='float32')\n",
    "y = np.zeros((examples_number, 1), dtype='float32')\n",
    "\n",
    "for i in range(examples_number):\n",
    "    x1 = np.random.random(1) * 0.1 + 0.0001\n",
    "    x2 = np.random.random(1) * 0.1 + 0.0001\n",
    "\n",
    "    f = my_function(x1, x2)\n",
    "\n",
    "    x[i][0] = x1\n",
    "    x[i][1] = x2\n",
    "    y[i][0] = f\n",
    "\n",
    "x_train = x[:train_test_split]\n",
    "y_train = y[:train_test_split]\n",
    "\n",
    "x_val = x[train_test_split:]\n",
    "y_val = y[train_test_split:]"
   ]
  },
  {
   "cell_type": "markdown",
   "metadata": {},
   "source": [
    "#### Creo un dataset di test nel quale la funzione della y é la stessa ma i dati sono differenti dai dati di addestramento "
   ]
  },
  {
   "cell_type": "code",
   "execution_count": 8,
   "metadata": {
    "pycharm": {
     "name": "#%%\n"
    }
   },
   "outputs": [],
   "source": [
    "x_test = np.zeros((2000, 2), dtype='float32')\n",
    "y_test = np.zeros((2000, 1), dtype='float32')\n",
    "\n",
    "for i in range(2000):\n",
    "    x1 = np.random.random(1) * 0.42 + 0.0001\n",
    "    x2 = np.random.random(1) - 0.5 + 0.0001\n",
    "\n",
    "    f = my_function(x1, x2)\n",
    "\n",
    "    x_test[i][0] = x1\n",
    "    x_test[i][1] = x2\n",
    "    y_test[i][0] = f"
   ]
  },
  {
   "cell_type": "code",
   "execution_count": 9,
   "metadata": {
    "pycharm": {
     "name": "#%%\n"
    }
   },
   "outputs": [
    {
     "name": "stdout",
     "output_type": "stream",
     "text": [
      "0.000100166806 0.10009845 2.5003803 2.8425431\n",
      "0.00010256296 0.10009802 2.5014393 2.8426564\n",
      "-0.49966294 0.49836445 0.8523469 4.3490763\n"
     ]
    }
   ],
   "source": [
    "print(np.min(x_train), np.max(x_train), np.min(y_train), np.max(y_train))\n",
    "print(np.min(x_val), np.max(x_val), np.min(y_val), np.max(y_val))\n",
    "print(np.min(x_test), np.max(x_test), np.min(y_test), np.max(y_test))"
   ]
  },
  {
   "cell_type": "code",
   "execution_count": 10,
   "metadata": {
    "pycharm": {
     "name": "#%%\n"
    }
   },
   "outputs": [],
   "source": [
    "trainings_log = {}\n",
    "\n",
    "def train_and_test(name=None):\n",
    "    start_time = datetime.now()\n",
    "    history = model.fit(\n",
    "        x=x_train,\n",
    "        y=y_train,\n",
    "        validation_data=(x_val, y_val),\n",
    "        batch_size=500,\n",
    "        verbose=0,\n",
    "        epochs=70\n",
    "    )\n",
    "\n",
    "    test_results = model.evaluate(x_test, y_test, verbose=0, batch_size=128)\n",
    "\n",
    "    end_time = datetime.now()\n",
    "    time_elapsed = end_time - start_time\n",
    "\n",
    "    plt.plot(history.history['loss'], label='Loss')\n",
    "    plt.plot(history.history['val_loss'], label='Val.Loss')\n",
    "    plt.legend()\n",
    "    plt.show()\n",
    "\n",
    "    print('---------------------------------')\n",
    "    print('LOSSES')\n",
    "    print('train     ', history.history['loss'][-1])\n",
    "    print('validation', history.history['val_loss'][-1])\n",
    "    print('test      ', test_results)\n",
    "    print('time elaps', time_elapsed)\n",
    "    trainings_log[name] = {\n",
    "        'train_loss': history.history['loss'][-1],\n",
    "        'val_loss': history.history['val_loss'][-1],\n",
    "        'test_loss': test_results,\n",
    "        'time_elaps': time_elapsed\n",
    "    }"
   ]
  },
  {
   "cell_type": "markdown",
   "metadata": {},
   "source": [
    "#### Creo un'Architettura NALU \n",
    "L'Architettura di una cella NALU contiene al suo interno un una cella NAC semplice e una cella NAC complessa alle quali viene aggiunto un gate che definisci quali e quanti pesi di uscita delle due NAC devono essere sommati \n",
    "\n",
    "#### Definizione della classe \n",
    "* Vengono definiti i pesi come devono essere inizializzati dove M e W sono per la sigmoide e la tanh e G per il gate\n",
    "\n",
    "* NAC Complessa = exp(log(∣x∣+ε)⋅W)\n",
    "\n",
    "* NAC Semplice = (Wsigmoide * W tanh) * x\n",
    "\n",
    "* (g * a) + ((1 - g) * m) é formula per determinare i pesi di output  "
   ]
  },
  {
   "cell_type": "code",
   "execution_count": 12,
   "metadata": {
    "pycharm": {
     "name": "#%%\n"
    }
   },
   "outputs": [],
   "source": [
    "class NALU(tf.keras.layers.Layer):\n",
    "    def __init__(\n",
    "            self, units,\n",
    "            G_constraint=None,\n",
    "            G_initializer='glorot_uniform',\n",
    "            G_regularizer=None,\n",
    "            M_hat_constraint=None,\n",
    "            M_hat_initializer='glorot_uniform',\n",
    "            M_hat_regularizer=None,\n",
    "            W_hat_constraint=None,\n",
    "            W_hat_initializer='glorot_uniform',\n",
    "            W_hat_regularizer=None,\n",
    "            cell=None,\n",
    "            e=1e-28,\n",
    "            **kwargs,\n",
    "    ):\n",
    "        assert cell in ['a', 'm', None]\n",
    "\n",
    "        super(NALU, self).__init__(**kwargs)\n",
    "        self.cell = cell\n",
    "        self.G = None\n",
    "        self.G_constraint = tf.keras.constraints.get(G_constraint)\n",
    "        self.G_initializer = tf.keras.initializers.get(G_initializer)\n",
    "        self.G_regularizer = tf.keras.regularizers.get(G_regularizer)\n",
    "        self.M_hat = None\n",
    "        self.M_hat_constraint = tf.keras.constraints.get(M_hat_constraint)\n",
    "        self.M_hat_initializer = tf.keras.initializers.get(M_hat_initializer)\n",
    "        self.M_hat_regularizer = tf.keras.regularizers.get(M_hat_regularizer)\n",
    "        self.W_hat = None\n",
    "        self.W_hat_constraint = tf.keras.constraints.get(W_hat_constraint)\n",
    "        self.W_hat_initializer = tf.keras.initializers.get(W_hat_initializer)\n",
    "        self.W_hat_regularizer = tf.keras.regularizers.get(W_hat_regularizer)\n",
    "        self.e = e\n",
    "        self.supports_masking = True\n",
    "        self.units = units\n",
    "\n",
    "    def build(self, input_shape):\n",
    "        input_dim = input_shape[-1]\n",
    "\n",
    "        if self.cell is None:\n",
    "            self.G = self.add_weight(\n",
    "                constraint=self.G_constraint,\n",
    "                initializer=self.G_initializer,\n",
    "                name='G',\n",
    "                regularizer=self.G_regularizer,\n",
    "                shape=(input_dim, self.units),\n",
    "            )\n",
    "\n",
    "        self.M_hat = self.add_weight(\n",
    "            constraint=self.M_hat_constraint,\n",
    "            initializer=self.M_hat_initializer,\n",
    "            name='M_hat',\n",
    "            regularizer=self.M_hat_regularizer,\n",
    "            shape=(input_dim, self.units),\n",
    "        )\n",
    "\n",
    "        self.W_hat = self.add_weight(\n",
    "            constraint=self.W_hat_constraint,\n",
    "            initializer=self.W_hat_initializer,\n",
    "            name='W_hat',\n",
    "            regularizer=self.W_hat_regularizer,\n",
    "            shape=(input_dim, self.units),\n",
    "        )\n",
    "\n",
    "        self.built = True\n",
    "        self.input_spec = tf.keras.layers.InputSpec(axes={-1: input_dim}, min_ndim=2)\n",
    "\n",
    "    def call(self, inputs, **kwargs):\n",
    "        W = tf.keras.backend.tanh(self.W_hat) * tf.keras.backend.sigmoid(self.M_hat)\n",
    "        a = tf.keras.backend.dot(inputs, W)\n",
    "        m = tf.keras.backend.exp(tf.keras.backend.dot(tf.keras.backend.log(tf.keras.backend.abs(inputs) + self.e), W))\n",
    "\n",
    "        if self.cell == 'a':\n",
    "            y = a\n",
    "        elif self.cell == 'm':\n",
    "            y = m\n",
    "        else:\n",
    "            g = tf.keras.backend.sigmoid(tf.keras.backend.dot(inputs, self.G))\n",
    "            y = (g * a) + ((1 - g) * m)\n",
    "\n",
    "        return y\n",
    "\n",
    "    def compute_output_shape(self, input_shape):\n",
    "        output_shape = list(input_shape)\n",
    "        output_shape[-1] = self.units\n",
    "        output_shape = tuple(output_shape)\n",
    "        return output_shape\n",
    "\n",
    "    def get_config(self):\n",
    "        base_config = super(NALU, self).get_config()\n",
    "\n",
    "        config = {\n",
    "            'G_constraint': tf.keras.constraints.serialize(self.G_constraint),\n",
    "            'G_initializer': tf.keras.initializers.serialize(self.G_initializer),\n",
    "            'G_regularizer': tf.keras.regularizers.serialize(self.G_regularizer),\n",
    "            'M_hat_constraint': tf.keras.constraints.serialize(self.M_hat_constraint),\n",
    "            'M_hat_initializer': tf.keras.initializers.serialize(self.M_hat_initializer),\n",
    "            'M_hat_regularizer': tf.keras.regularizers.serialize(self.M_hat_regularizer),\n",
    "            'W_hat_constraint': tf.keras.constraints.serialize(self.W_hat_constraint),\n",
    "            'W_hat_initializer': tf.keras.initializers.serialize(self.W_hat_initializer),\n",
    "            'W_hat_regularizer': tf.keras.regularizers.serialize(self.W_hat_regularizer),\n",
    "            'cell': self.cell,\n",
    "            'e': self.e,\n",
    "            'units': self.units,\n",
    "        }\n",
    "\n",
    "        return {**base_config, **config}\n",
    "\n",
    "tf.keras.utils.get_custom_objects().update({'NALU': NALU})"
   ]
  },
  {
   "cell_type": "markdown",
   "metadata": {},
   "source": [
    "#### Addestramento NALU"
   ]
  },
  {
   "cell_type": "code",
   "execution_count": 15,
   "metadata": {
    "pycharm": {
     "name": "#%%\n"
    }
   },
   "outputs": [
    {
     "name": "stdout",
     "output_type": "stream",
     "text": [
      "Model: \"model_2\"\n",
      "_________________________________________________________________\n",
      " Layer (type)                Output Shape              Param #   \n",
      "=================================================================\n",
      " input_3 (InputLayer)        [(None, 2)]               0         \n",
      "                                                                 \n",
      " nalu (NALU)                 (None, 128)               768       \n",
      "                                                                 \n",
      " nalu_1 (NALU)               (None, 1)                 384       \n",
      "                                                                 \n",
      "=================================================================\n",
      "Total params: 1,152\n",
      "Trainable params: 1,152\n",
      "Non-trainable params: 0\n",
      "_________________________________________________________________\n"
     ]
    },
    {
     "data": {
      "image/png": "[encoded data removed]",
      "text/plain": [
       "<Figure size 432x288 with 1 Axes>"
      ]
     },
     "metadata": {
      "needs_background": "light"
     },
     "output_type": "display_data"
    },
    {
     "name": "stdout",
     "output_type": "stream",
     "text": [
      "---------------------------------\n",
      "LOSSES\n",
      "train      0.003003676189109683\n",
      "validation 0.0018013938097283244\n",
      "test       0.16955643892288208\n",
      "time elaps 0:00:12.701254\n"
     ]
    }
   ],
   "source": [
    "input = tf.keras.layers.Input(shape=(x.shape[1:]))\n",
    "\n",
    "dense = NALU(128)(input)\n",
    "output = NALU(1)(dense)\n",
    "\n",
    "model = tf.keras.models.Model(\n",
    "    inputs=input,\n",
    "    outputs=output\n",
    ")\n",
    "\n",
    "model.compile(\n",
    "    optimizer=tf.keras.optimizers.Adam(learning_rate=0.0002),\n",
    "    loss=tf.keras.losses.MeanAbsoluteError()\n",
    ")\n",
    "\n",
    "model.summary()\n",
    "\n",
    "train_and_test(name='NALU')"
   ]
  },
  {
   "cell_type": "code",
   "execution_count": null,
   "metadata": {
    "pycharm": {
     "name": "#%%\n"
    }
   },
   "outputs": [],
   "source": []
  }
 ],
 "metadata": {
  "kernelspec": {
   "display_name": "Python 3 (ipykernel)",
   "language": "python",
   "name": "python3"
  },
  "language_info": {
   "codemirror_mode": {
    "name": "ipython",
    "version": 3
   },
   "file_extension": ".py",
   "mimetype": "text/x-python",
   "name": "python",
   "nbconvert_exporter": "python",
   "pygments_lexer": "ipython3",
   "version": "3.11.4"
  }
 },
 "nbformat": 4,
 "nbformat_minor": 4
}
